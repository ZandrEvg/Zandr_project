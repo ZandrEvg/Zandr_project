{
 "cells": [
  {
   "cell_type": "markdown",
   "id": "8c52dcfc",
   "metadata": {
    "toc": true
   },
   "source": [
    "<h1>Содержание<span class=\"tocSkip\"></span></h1>\n",
    "<div class=\"toc\"><ul class=\"toc-item\"><li><span><a href=\"#Постановка-задачи\" data-toc-modified-id=\"Постановка-задачи-1\"><span class=\"toc-item-num\">1&nbsp;&nbsp;</span>Постановка задачи</a></span><ul class=\"toc-item\"><li><span><a href=\"#Общая-информация\" data-toc-modified-id=\"Общая-информация-1.1\"><span class=\"toc-item-num\">1.1&nbsp;&nbsp;</span>Общая информация</a></span></li><li><span><a href=\"#Бизнес-задача\" data-toc-modified-id=\"Бизнес-задача-1.2\"><span class=\"toc-item-num\">1.2&nbsp;&nbsp;</span>Бизнес задача</a></span></li><li><span><a href=\"#Описание-файла-с-данными\" data-toc-modified-id=\"Описание-файла-с-данными-1.3\"><span class=\"toc-item-num\">1.3&nbsp;&nbsp;</span>Описание файла с данными</a></span></li></ul></li><li><span><a href=\"#Предобработка-данных\" data-toc-modified-id=\"Предобработка-данных-2\"><span class=\"toc-item-num\">2&nbsp;&nbsp;</span>Предобработка данных</a></span><ul class=\"toc-item\"><li><span><a href=\"#Загрузить-фаил-с-данными\" data-toc-modified-id=\"Загрузить-фаил-с-данными-2.1\"><span class=\"toc-item-num\">2.1&nbsp;&nbsp;</span>Загрузить фаил с данными</a></span></li><li><span><a href=\"#Проверка-на-дубликаты\" data-toc-modified-id=\"Проверка-на-дубликаты-2.2\"><span class=\"toc-item-num\">2.2&nbsp;&nbsp;</span>Проверка на дубликаты</a></span></li><li><span><a href=\"#Перевод-данных-из-json-формата\" data-toc-modified-id=\"Перевод-данных-из-json-формата-2.3\"><span class=\"toc-item-num\">2.3&nbsp;&nbsp;</span>Перевод данных из json формата</a></span></li></ul></li><li><span><a href=\"#Анализ-данных\" data-toc-modified-id=\"Анализ-данных-3\"><span class=\"toc-item-num\">3&nbsp;&nbsp;</span>Анализ данных</a></span><ul class=\"toc-item\"><li><span><a href=\"#Столбец-revenue\" data-toc-modified-id=\"Столбец-revenue-3.1\"><span class=\"toc-item-num\">3.1&nbsp;&nbsp;</span>Столбец <code>revenue</code></a></span></li></ul></li><li><span><a href=\"#Бизнесс-задача\" data-toc-modified-id=\"Бизнесс-задача-4\"><span class=\"toc-item-num\">4&nbsp;&nbsp;</span>Бизнесс задача</a></span><ul class=\"toc-item\"><li><span><a href=\"#отобразить-суммарные-доходы-по-городам,-версиям-ОС\" data-toc-modified-id=\"отобразить-суммарные-доходы-по-городам,-версиям-ОС-4.1\"><span class=\"toc-item-num\">4.1&nbsp;&nbsp;</span>отобразить суммарные доходы по городам, версиям ОС</a></span></li><li><span><a href=\"#Построить-распределение-средних-eCPM-ов-юзеров\" data-toc-modified-id=\"Построить-распределение-средних-eCPM-ов-юзеров-4.2\"><span class=\"toc-item-num\">4.2&nbsp;&nbsp;</span>Построить распределение средних eCPM-ов юзеров</a></span></li><li><span><a href=\"#Отобразить-средние-eCPM-ы-по-городам,-версиям-ОС\" data-toc-modified-id=\"Отобразить-средние-eCPM-ы-по-городам,-версиям-ОС-4.3\"><span class=\"toc-item-num\">4.3&nbsp;&nbsp;</span>Отобразить средние eCPM-ы по городам, версиям ОС</a></span></li><li><span><a href=\"#Зависит-ли-eCPM-от-времени-дня\" data-toc-modified-id=\"Зависит-ли-eCPM-от-времени-дня-4.4\"><span class=\"toc-item-num\">4.4&nbsp;&nbsp;</span>Зависит ли eCPM от времени дня</a></span></li></ul></li><li><span><a href=\"#Вывод\" data-toc-modified-id=\"Вывод-5\"><span class=\"toc-item-num\">5&nbsp;&nbsp;</span>Вывод</a></span></li></ul></div>"
   ]
  },
  {
   "cell_type": "markdown",
   "id": "df90db8f",
   "metadata": {},
   "source": [
    "## Постановка задачи ##"
   ]
  },
  {
   "cell_type": "markdown",
   "id": "c3feb17b",
   "metadata": {},
   "source": [
    "### Общая информация"
   ]
  },
  {
   "cell_type": "markdown",
   "id": "c248ba13",
   "metadata": {},
   "source": [
    "Мобильная игра зарабатывает на показе рекламы. Есть несколько форматов:\n",
    "- int – полноэкранная реклама; \n",
    "- banner – горизонтальный баннер, висит внизу\n",
    "экрана пока юзер играет; \n",
    "- rv – видео, которое юзер смотрит по желанию и за\n",
    "просмотр получает монетки или др. ресурсы. <br> Информация о каждом показе\n",
    "отправляется в аналитику и содержит доход от показа, формат показанной\n",
    "рекламы, рекламную сеть от которой был показ и др.\n",
    "eCPM – доход за 1000 показов рекламы."
   ]
  },
  {
   "cell_type": "markdown",
   "id": "0bb03163",
   "metadata": {},
   "source": [
    "### Бизнес задача"
   ]
  },
  {
   "cell_type": "markdown",
   "id": "458e9f2c",
   "metadata": {},
   "source": [
    "Провести исследование показов рекламы с целью понять на сколько\n",
    "отличается eCPM в зависимости от географии (города) юзера, версии ОС и\n",
    "других параметров. Интересны любые инсайты и находки по eCPM-ам."
   ]
  },
  {
   "cell_type": "markdown",
   "id": "1f8d10ef",
   "metadata": {},
   "source": [
    "### Описание файла с данными"
   ]
  },
  {
   "cell_type": "markdown",
   "id": "b98b992c",
   "metadata": {},
   "source": [
    "* `profile_id` – id юзера\n",
    "* `event_json` содержит данные о событии показа рекламы:\n",
    "* `ad_type` – формат рекламы (int, banner или rv)\n",
    "* `placement` – когда/где был показ рекламы в игре\n",
    "* `view_index` – номер показа конкретного формата рекламы для юзера (не поддерживается для баннеров)\n",
    "* `revenue` – доход от конкретного показа рекламы (eCPM = revenue * 1000)\n",
    "* `ads_ltv` – накапливающийся доход от рекламы, равен сумме всех revenue юзера\n",
    "* `network_name` – рекламная сеть, от которой был показ <br>\n",
    "Остальные столбцы должны быть интуитивно понятны"
   ]
  },
  {
   "cell_type": "markdown",
   "id": "f72a3dfc",
   "metadata": {},
   "source": [
    "## Предобработка данных"
   ]
  },
  {
   "cell_type": "code",
   "execution_count": 1,
   "id": "b3dfa242",
   "metadata": {},
   "outputs": [],
   "source": [
    "# загрузка библиотек\n",
    "import pandas as pd\n",
    "import json\n",
    "import seaborn as sns\n",
    "from matplotlib import pyplot as plt\n",
    "\n",
    "# отключение предупреждений\n",
    "import warnings\n",
    "warnings.filterwarnings('ignore')\n",
    "pd.set_option(\"display.float_format\", \"{:.2f}\".format)"
   ]
  },
  {
   "cell_type": "markdown",
   "id": "7f5ed646",
   "metadata": {},
   "source": [
    "### Загрузить фаил с данными"
   ]
  },
  {
   "cell_type": "code",
   "execution_count": 2,
   "id": "0fb7018d",
   "metadata": {},
   "outputs": [],
   "source": [
    "# путь на локальной машине. Не удалось из-за размеров напрямую вытянуть датасет с облака\n",
    "path = 'datasets/us events ad_revenue filtered 03.02-07.02.csv'\n",
    "data = pd.read_csv(path, parse_dates=['event_datetime', 'event_timestamp', 'event_receive_datetime', 'event_receive_timestamp'])"
   ]
  },
  {
   "cell_type": "code",
   "execution_count": 3,
   "id": "a1de7778",
   "metadata": {},
   "outputs": [
    {
     "data": {
      "text/html": [
       "<div>\n",
       "<style scoped>\n",
       "    .dataframe tbody tr th:only-of-type {\n",
       "        vertical-align: middle;\n",
       "    }\n",
       "\n",
       "    .dataframe tbody tr th {\n",
       "        vertical-align: top;\n",
       "    }\n",
       "\n",
       "    .dataframe thead th {\n",
       "        text-align: right;\n",
       "    }\n",
       "</style>\n",
       "<table border=\"1\" class=\"dataframe\">\n",
       "  <thead>\n",
       "    <tr style=\"text-align: right;\">\n",
       "      <th></th>\n",
       "      <th>profile_id</th>\n",
       "      <th>os_version</th>\n",
       "      <th>device_manufacturer</th>\n",
       "      <th>device_model</th>\n",
       "      <th>device_type</th>\n",
       "      <th>device_locale</th>\n",
       "      <th>event_name</th>\n",
       "      <th>event_json</th>\n",
       "      <th>event_datetime</th>\n",
       "      <th>event_timestamp</th>\n",
       "      <th>event_receive_datetime</th>\n",
       "      <th>event_receive_timestamp</th>\n",
       "      <th>connection_type</th>\n",
       "      <th>operator_name</th>\n",
       "      <th>country_iso_code</th>\n",
       "      <th>city</th>\n",
       "    </tr>\n",
       "  </thead>\n",
       "  <tbody>\n",
       "    <tr>\n",
       "      <th>654339</th>\n",
       "      <td>JLtBjZtPK0V</td>\n",
       "      <td>11</td>\n",
       "      <td>Samsung</td>\n",
       "      <td>Galaxy Note10</td>\n",
       "      <td>phone</td>\n",
       "      <td>en_US</td>\n",
       "      <td>c_ad_revenue</td>\n",
       "      <td>{\"ad_type\":\"banner\",\"placement\":\"\",\"view_index...</td>\n",
       "      <td>2022-02-05 09:56:13</td>\n",
       "      <td>1644044173</td>\n",
       "      <td>2022-02-05 09:56:45</td>\n",
       "      <td>1644044205</td>\n",
       "      <td>wifi</td>\n",
       "      <td>Family Mobile</td>\n",
       "      <td>US</td>\n",
       "      <td>NaN</td>\n",
       "    </tr>\n",
       "    <tr>\n",
       "      <th>83078</th>\n",
       "      <td>JLrjKw7J4Mp</td>\n",
       "      <td>12</td>\n",
       "      <td>Google</td>\n",
       "      <td>Pixel 3a</td>\n",
       "      <td>phone</td>\n",
       "      <td>en_US</td>\n",
       "      <td>c_ad_revenue</td>\n",
       "      <td>{\"ad_type\":\"banner\",\"placement\":\"\",\"view_index...</td>\n",
       "      <td>2022-02-05 11:43:13</td>\n",
       "      <td>1644050593</td>\n",
       "      <td>2022-02-05 11:44:00</td>\n",
       "      <td>1644050640</td>\n",
       "      <td>wifi</td>\n",
       "      <td>Google Fi</td>\n",
       "      <td>US</td>\n",
       "      <td>NaN</td>\n",
       "    </tr>\n",
       "    <tr>\n",
       "      <th>335118</th>\n",
       "      <td>JLyyHaX75KR</td>\n",
       "      <td>12</td>\n",
       "      <td>Samsung</td>\n",
       "      <td>SM-G996U</td>\n",
       "      <td>phone</td>\n",
       "      <td>en_US</td>\n",
       "      <td>c_ad_revenue</td>\n",
       "      <td>{\"ad_type\":\"banner\",\"placement\":\"\",\"view_index...</td>\n",
       "      <td>2022-02-06 04:39:12</td>\n",
       "      <td>1644111552</td>\n",
       "      <td>2022-02-06 04:39:15</td>\n",
       "      <td>1644111555</td>\n",
       "      <td>wifi</td>\n",
       "      <td>Verizon</td>\n",
       "      <td>US</td>\n",
       "      <td>NaN</td>\n",
       "    </tr>\n",
       "    <tr>\n",
       "      <th>297939</th>\n",
       "      <td>JL49WTG4cqE</td>\n",
       "      <td>12</td>\n",
       "      <td>Samsung</td>\n",
       "      <td>Galaxy S20 Ultra 5G</td>\n",
       "      <td>phone</td>\n",
       "      <td>en_US</td>\n",
       "      <td>c_ad_revenue</td>\n",
       "      <td>{\"ad_type\":\"banner\",\"placement\":\"\",\"view_index...</td>\n",
       "      <td>2022-02-05 03:09:41</td>\n",
       "      <td>1644019781</td>\n",
       "      <td>2022-02-05 03:09:43</td>\n",
       "      <td>1644019783</td>\n",
       "      <td>wifi</td>\n",
       "      <td>U.S. Cellular</td>\n",
       "      <td>US</td>\n",
       "      <td>NaN</td>\n",
       "    </tr>\n",
       "    <tr>\n",
       "      <th>417470</th>\n",
       "      <td>JLxAQMbo714</td>\n",
       "      <td>9</td>\n",
       "      <td>Samsung</td>\n",
       "      <td>Galaxy S8</td>\n",
       "      <td>phone</td>\n",
       "      <td>en_US</td>\n",
       "      <td>c_ad_revenue</td>\n",
       "      <td>{\"ad_type\":\"banner\",\"placement\":\"\",\"view_index...</td>\n",
       "      <td>2022-02-06 22:15:48</td>\n",
       "      <td>1644174948</td>\n",
       "      <td>2022-02-06 22:16:19</td>\n",
       "      <td>1644174979</td>\n",
       "      <td>wifi</td>\n",
       "      <td>CC Network</td>\n",
       "      <td>US</td>\n",
       "      <td>Charlotte</td>\n",
       "    </tr>\n",
       "  </tbody>\n",
       "</table>\n",
       "</div>"
      ],
      "text/plain": [
       "         profile_id os_version device_manufacturer         device_model  \\\n",
       "654339  JLtBjZtPK0V         11             Samsung        Galaxy Note10   \n",
       "83078   JLrjKw7J4Mp         12              Google             Pixel 3a   \n",
       "335118  JLyyHaX75KR         12             Samsung             SM-G996U   \n",
       "297939  JL49WTG4cqE         12             Samsung  Galaxy S20 Ultra 5G   \n",
       "417470  JLxAQMbo714          9             Samsung            Galaxy S8   \n",
       "\n",
       "       device_type device_locale    event_name  \\\n",
       "654339       phone         en_US  c_ad_revenue   \n",
       "83078        phone         en_US  c_ad_revenue   \n",
       "335118       phone         en_US  c_ad_revenue   \n",
       "297939       phone         en_US  c_ad_revenue   \n",
       "417470       phone         en_US  c_ad_revenue   \n",
       "\n",
       "                                               event_json      event_datetime  \\\n",
       "654339  {\"ad_type\":\"banner\",\"placement\":\"\",\"view_index... 2022-02-05 09:56:13   \n",
       "83078   {\"ad_type\":\"banner\",\"placement\":\"\",\"view_index... 2022-02-05 11:43:13   \n",
       "335118  {\"ad_type\":\"banner\",\"placement\":\"\",\"view_index... 2022-02-06 04:39:12   \n",
       "297939  {\"ad_type\":\"banner\",\"placement\":\"\",\"view_index... 2022-02-05 03:09:41   \n",
       "417470  {\"ad_type\":\"banner\",\"placement\":\"\",\"view_index... 2022-02-06 22:15:48   \n",
       "\n",
       "       event_timestamp event_receive_datetime event_receive_timestamp  \\\n",
       "654339      1644044173    2022-02-05 09:56:45              1644044205   \n",
       "83078       1644050593    2022-02-05 11:44:00              1644050640   \n",
       "335118      1644111552    2022-02-06 04:39:15              1644111555   \n",
       "297939      1644019781    2022-02-05 03:09:43              1644019783   \n",
       "417470      1644174948    2022-02-06 22:16:19              1644174979   \n",
       "\n",
       "       connection_type  operator_name country_iso_code       city  \n",
       "654339            wifi  Family Mobile               US        NaN  \n",
       "83078             wifi      Google Fi               US        NaN  \n",
       "335118            wifi       Verizon                US        NaN  \n",
       "297939            wifi  U.S. Cellular               US        NaN  \n",
       "417470            wifi     CC Network               US  Charlotte  "
      ]
     },
     "execution_count": 3,
     "metadata": {},
     "output_type": "execute_result"
    }
   ],
   "source": [
    "data.sample(5)"
   ]
  },
  {
   "cell_type": "code",
   "execution_count": 4,
   "id": "e6b6d6f3",
   "metadata": {},
   "outputs": [
    {
     "name": "stdout",
     "output_type": "stream",
     "text": [
      "<class 'pandas.core.frame.DataFrame'>\n",
      "RangeIndex: 860079 entries, 0 to 860078\n",
      "Data columns (total 16 columns):\n",
      " #   Column                   Non-Null Count   Dtype         \n",
      "---  ------                   --------------   -----         \n",
      " 0   profile_id               860065 non-null  object        \n",
      " 1   os_version               860079 non-null  object        \n",
      " 2   device_manufacturer      860079 non-null  object        \n",
      " 3   device_model             860079 non-null  object        \n",
      " 4   device_type              860079 non-null  object        \n",
      " 5   device_locale            860079 non-null  object        \n",
      " 6   event_name               860079 non-null  object        \n",
      " 7   event_json               860079 non-null  object        \n",
      " 8   event_datetime           860079 non-null  datetime64[ns]\n",
      " 9   event_timestamp          860079 non-null  object        \n",
      " 10  event_receive_datetime   860079 non-null  datetime64[ns]\n",
      " 11  event_receive_timestamp  860079 non-null  object        \n",
      " 12  connection_type          860079 non-null  object        \n",
      " 13  operator_name            841200 non-null  object        \n",
      " 14  country_iso_code         860079 non-null  object        \n",
      " 15  city                     536371 non-null  object        \n",
      "dtypes: datetime64[ns](2), object(14)\n",
      "memory usage: 105.0+ MB\n"
     ]
    }
   ],
   "source": [
    "data.info()"
   ]
  },
  {
   "cell_type": "code",
   "execution_count": 5,
   "id": "39ad6245",
   "metadata": {},
   "outputs": [
    {
     "data": {
      "text/plain": [
       "'event_datetime'"
      ]
     },
     "metadata": {},
     "output_type": "display_data"
    },
    {
     "data": {
      "text/plain": [
       "count                  860079\n",
       "unique                 322812\n",
       "top       2022-02-06 19:00:31\n",
       "freq                      555\n",
       "first     2022-01-29 17:42:32\n",
       "last      2022-02-07 23:59:59\n",
       "Name: event_datetime, dtype: object"
      ]
     },
     "metadata": {},
     "output_type": "display_data"
    },
    {
     "data": {
      "text/plain": [
       "'profile_id'"
      ]
     },
     "metadata": {},
     "output_type": "display_data"
    },
    {
     "data": {
      "text/plain": [
       "count          860065\n",
       "unique           4226\n",
       "top       JL5pmKYe8g7\n",
       "freq             8486\n",
       "Name: profile_id, dtype: object"
      ]
     },
     "metadata": {},
     "output_type": "display_data"
    },
    {
     "data": {
      "text/plain": [
       "'os_version'"
      ]
     },
     "metadata": {},
     "output_type": "display_data"
    },
    {
     "data": {
      "text/plain": [
       "count     860079\n",
       "unique        11\n",
       "top           12\n",
       "freq      407587\n",
       "Name: os_version, dtype: object"
      ]
     },
     "metadata": {},
     "output_type": "display_data"
    },
    {
     "data": {
      "text/plain": [
       "'device_manufacturer'"
      ]
     },
     "metadata": {},
     "output_type": "display_data"
    },
    {
     "data": {
      "text/plain": [
       "count      860079\n",
       "unique         34\n",
       "top       Samsung\n",
       "freq       651633\n",
       "Name: device_manufacturer, dtype: object"
      ]
     },
     "metadata": {},
     "output_type": "display_data"
    },
    {
     "data": {
      "text/plain": [
       "'device_type'"
      ]
     },
     "metadata": {},
     "output_type": "display_data"
    },
    {
     "data": {
      "text/plain": [
       "count     860079\n",
       "unique         2\n",
       "top        phone\n",
       "freq      835667\n",
       "Name: device_type, dtype: object"
      ]
     },
     "metadata": {},
     "output_type": "display_data"
    },
    {
     "data": {
      "text/plain": [
       "'device_locale'"
      ]
     },
     "metadata": {},
     "output_type": "display_data"
    },
    {
     "data": {
      "text/plain": [
       "count     860079\n",
       "unique         9\n",
       "top        en_US\n",
       "freq      856257\n",
       "Name: device_locale, dtype: object"
      ]
     },
     "metadata": {},
     "output_type": "display_data"
    },
    {
     "data": {
      "text/plain": [
       "'country_iso_code'"
      ]
     },
     "metadata": {},
     "output_type": "display_data"
    },
    {
     "data": {
      "text/plain": [
       "count     860079\n",
       "unique         1\n",
       "top           US\n",
       "freq      860079\n",
       "Name: country_iso_code, dtype: object"
      ]
     },
     "metadata": {},
     "output_type": "display_data"
    },
    {
     "data": {
      "text/plain": [
       "'city'"
      ]
     },
     "metadata": {},
     "output_type": "display_data"
    },
    {
     "data": {
      "text/plain": [
       "count       536371\n",
       "unique         920\n",
       "top       New York\n",
       "freq         17584\n",
       "Name: city, dtype: object"
      ]
     },
     "metadata": {},
     "output_type": "display_data"
    }
   ],
   "source": [
    "# исследование датасета\n",
    "for _ in ['event_datetime', \n",
    "          'profile_id', \n",
    "          'os_version', \n",
    "          'device_manufacturer', \n",
    "          'device_type', \n",
    "          'device_locale', \n",
    "          'country_iso_code', \n",
    "          'city']:\n",
    "    display(_)\n",
    "    display(data[_].describe())"
   ]
  },
  {
   "cell_type": "markdown",
   "id": "f29b45c9",
   "metadata": {},
   "source": [
    "### Проверка на дубликаты"
   ]
  },
  {
   "cell_type": "code",
   "execution_count": 6,
   "id": "e6f43765",
   "metadata": {},
   "outputs": [
    {
     "data": {
      "text/plain": [
       "0"
      ]
     },
     "execution_count": 6,
     "metadata": {},
     "output_type": "execute_result"
    }
   ],
   "source": [
    "data.duplicated().sum()"
   ]
  },
  {
   "cell_type": "markdown",
   "id": "266dae78",
   "metadata": {},
   "source": [
    "Явных дубликатов нет."
   ]
  },
  {
   "cell_type": "markdown",
   "id": "d4218642",
   "metadata": {},
   "source": [
    "### Перевод данных из json формата"
   ]
  },
  {
   "cell_type": "code",
   "execution_count": 7,
   "id": "8efba54c",
   "metadata": {},
   "outputs": [
    {
     "data": {
      "text/html": [
       "<div>\n",
       "<style scoped>\n",
       "    .dataframe tbody tr th:only-of-type {\n",
       "        vertical-align: middle;\n",
       "    }\n",
       "\n",
       "    .dataframe tbody tr th {\n",
       "        vertical-align: top;\n",
       "    }\n",
       "\n",
       "    .dataframe thead th {\n",
       "        text-align: right;\n",
       "    }\n",
       "</style>\n",
       "<table border=\"1\" class=\"dataframe\">\n",
       "  <thead>\n",
       "    <tr style=\"text-align: right;\">\n",
       "      <th></th>\n",
       "      <th>profile_id</th>\n",
       "      <th>os_version</th>\n",
       "      <th>device_manufacturer</th>\n",
       "      <th>device_model</th>\n",
       "      <th>device_type</th>\n",
       "      <th>device_locale</th>\n",
       "      <th>event_name</th>\n",
       "      <th>event_json</th>\n",
       "      <th>event_datetime</th>\n",
       "      <th>event_timestamp</th>\n",
       "      <th>...</th>\n",
       "      <th>connection_type</th>\n",
       "      <th>operator_name</th>\n",
       "      <th>country_iso_code</th>\n",
       "      <th>city</th>\n",
       "      <th>ad_type</th>\n",
       "      <th>placement</th>\n",
       "      <th>view_index</th>\n",
       "      <th>revenue</th>\n",
       "      <th>ads_ltv</th>\n",
       "      <th>network_name</th>\n",
       "    </tr>\n",
       "  </thead>\n",
       "  <tbody>\n",
       "    <tr>\n",
       "      <th>0</th>\n",
       "      <td>JLjpGzDHBQm</td>\n",
       "      <td>11</td>\n",
       "      <td>Samsung</td>\n",
       "      <td>Galaxy Tab S6</td>\n",
       "      <td>tablet</td>\n",
       "      <td>en_US</td>\n",
       "      <td>c_ad_revenue</td>\n",
       "      <td>{\"ad_type\":\"banner\",\"placement\":\"\",\"view_index...</td>\n",
       "      <td>2022-02-04 20:02:28</td>\n",
       "      <td>1643994148</td>\n",
       "      <td>...</td>\n",
       "      <td>wifi</td>\n",
       "      <td>NaN</td>\n",
       "      <td>US</td>\n",
       "      <td>Norwalk</td>\n",
       "      <td>banner</td>\n",
       "      <td></td>\n",
       "      <td>1</td>\n",
       "      <td>0.00</td>\n",
       "      <td>0.49</td>\n",
       "      <td>Google AdMob</td>\n",
       "    </tr>\n",
       "    <tr>\n",
       "      <th>1</th>\n",
       "      <td>JLjpGzDHBQm</td>\n",
       "      <td>11</td>\n",
       "      <td>Samsung</td>\n",
       "      <td>Galaxy Tab S6</td>\n",
       "      <td>tablet</td>\n",
       "      <td>en_US</td>\n",
       "      <td>c_ad_revenue</td>\n",
       "      <td>{\"ad_type\":\"banner\",\"placement\":\"\",\"view_index...</td>\n",
       "      <td>2022-02-04 20:02:45</td>\n",
       "      <td>1643994165</td>\n",
       "      <td>...</td>\n",
       "      <td>wifi</td>\n",
       "      <td>NaN</td>\n",
       "      <td>US</td>\n",
       "      <td>Norwalk</td>\n",
       "      <td>banner</td>\n",
       "      <td></td>\n",
       "      <td>1</td>\n",
       "      <td>0.00</td>\n",
       "      <td>0.49</td>\n",
       "      <td>Google AdMob</td>\n",
       "    </tr>\n",
       "    <tr>\n",
       "      <th>2</th>\n",
       "      <td>JLkVacrzHY6</td>\n",
       "      <td>11</td>\n",
       "      <td>Google</td>\n",
       "      <td>Pixel 2</td>\n",
       "      <td>phone</td>\n",
       "      <td>en_US</td>\n",
       "      <td>c_ad_revenue</td>\n",
       "      <td>{\"ad_type\":\"banner\",\"placement\":\"\",\"view_index...</td>\n",
       "      <td>2022-02-05 17:53:05</td>\n",
       "      <td>1644072785</td>\n",
       "      <td>...</td>\n",
       "      <td>wifi</td>\n",
       "      <td>Verizon</td>\n",
       "      <td>US</td>\n",
       "      <td>Charlotte</td>\n",
       "      <td>banner</td>\n",
       "      <td></td>\n",
       "      <td>1</td>\n",
       "      <td>0.00</td>\n",
       "      <td>0.68</td>\n",
       "      <td>APPLOVIN_EXCHANGE</td>\n",
       "    </tr>\n",
       "    <tr>\n",
       "      <th>3</th>\n",
       "      <td>JMC6wG3cX0f</td>\n",
       "      <td>10</td>\n",
       "      <td>Samsung</td>\n",
       "      <td>Galaxy S9</td>\n",
       "      <td>phone</td>\n",
       "      <td>en_US</td>\n",
       "      <td>c_ad_revenue</td>\n",
       "      <td>{\"ad_type\":\"int\",\"placement\":\"next_level\",\"vie...</td>\n",
       "      <td>2022-02-06 17:09:01</td>\n",
       "      <td>1644156541</td>\n",
       "      <td>...</td>\n",
       "      <td>wifi</td>\n",
       "      <td>T-Mobile</td>\n",
       "      <td>US</td>\n",
       "      <td>Cocoa</td>\n",
       "      <td>int</td>\n",
       "      <td>next_level</td>\n",
       "      <td>1</td>\n",
       "      <td>0.01</td>\n",
       "      <td>0.01</td>\n",
       "      <td>AppLovin</td>\n",
       "    </tr>\n",
       "    <tr>\n",
       "      <th>4</th>\n",
       "      <td>JLzWWTJfi1b</td>\n",
       "      <td>10</td>\n",
       "      <td>Samsung</td>\n",
       "      <td>Galaxy S9</td>\n",
       "      <td>phone</td>\n",
       "      <td>en_US</td>\n",
       "      <td>c_ad_revenue</td>\n",
       "      <td>{\"ad_type\":\"banner\",\"placement\":\"\",\"view_index...</td>\n",
       "      <td>2022-02-06 17:15:38</td>\n",
       "      <td>1644156938</td>\n",
       "      <td>...</td>\n",
       "      <td>cell</td>\n",
       "      <td>Verizon</td>\n",
       "      <td>US</td>\n",
       "      <td>NaN</td>\n",
       "      <td>banner</td>\n",
       "      <td></td>\n",
       "      <td>1</td>\n",
       "      <td>0.01</td>\n",
       "      <td>0.06</td>\n",
       "      <td>Google AdMob</td>\n",
       "    </tr>\n",
       "    <tr>\n",
       "      <th>...</th>\n",
       "      <td>...</td>\n",
       "      <td>...</td>\n",
       "      <td>...</td>\n",
       "      <td>...</td>\n",
       "      <td>...</td>\n",
       "      <td>...</td>\n",
       "      <td>...</td>\n",
       "      <td>...</td>\n",
       "      <td>...</td>\n",
       "      <td>...</td>\n",
       "      <td>...</td>\n",
       "      <td>...</td>\n",
       "      <td>...</td>\n",
       "      <td>...</td>\n",
       "      <td>...</td>\n",
       "      <td>...</td>\n",
       "      <td>...</td>\n",
       "      <td>...</td>\n",
       "      <td>...</td>\n",
       "      <td>...</td>\n",
       "      <td>...</td>\n",
       "    </tr>\n",
       "    <tr>\n",
       "      <th>860074</th>\n",
       "      <td>JLSQY2nx1NQ</td>\n",
       "      <td>12</td>\n",
       "      <td>Samsung</td>\n",
       "      <td>Galaxy S21 Ultra 5G</td>\n",
       "      <td>phone</td>\n",
       "      <td>en_US</td>\n",
       "      <td>c_ad_revenue</td>\n",
       "      <td>{\"ad_type\":\"banner\",\"placement\":\"\",\"view_index...</td>\n",
       "      <td>2022-02-03 08:29:27</td>\n",
       "      <td>1643866167</td>\n",
       "      <td>...</td>\n",
       "      <td>wifi</td>\n",
       "      <td>Verizon</td>\n",
       "      <td>US</td>\n",
       "      <td>Elmira</td>\n",
       "      <td>banner</td>\n",
       "      <td></td>\n",
       "      <td>1</td>\n",
       "      <td>0.00</td>\n",
       "      <td>1.01</td>\n",
       "      <td>APPLOVIN_EXCHANGE</td>\n",
       "    </tr>\n",
       "    <tr>\n",
       "      <th>860075</th>\n",
       "      <td>JLKWwju79CA</td>\n",
       "      <td>12</td>\n",
       "      <td>Samsung</td>\n",
       "      <td>SM-G991U</td>\n",
       "      <td>phone</td>\n",
       "      <td>en_US</td>\n",
       "      <td>c_ad_revenue</td>\n",
       "      <td>{\"ad_type\":\"banner\",\"placement\":\"\",\"view_index...</td>\n",
       "      <td>2022-02-03 02:12:51</td>\n",
       "      <td>1643843571</td>\n",
       "      <td>...</td>\n",
       "      <td>cell</td>\n",
       "      <td>Verizon</td>\n",
       "      <td>US</td>\n",
       "      <td>Cherry Hill</td>\n",
       "      <td>banner</td>\n",
       "      <td></td>\n",
       "      <td>1</td>\n",
       "      <td>0.01</td>\n",
       "      <td>0.28</td>\n",
       "      <td>Google AdMob</td>\n",
       "    </tr>\n",
       "    <tr>\n",
       "      <th>860076</th>\n",
       "      <td>JLKWwju79CA</td>\n",
       "      <td>12</td>\n",
       "      <td>Samsung</td>\n",
       "      <td>SM-G991U</td>\n",
       "      <td>phone</td>\n",
       "      <td>en_US</td>\n",
       "      <td>c_ad_revenue</td>\n",
       "      <td>{\"ad_type\":\"banner\",\"placement\":\"\",\"view_index...</td>\n",
       "      <td>2022-02-03 02:13:06</td>\n",
       "      <td>1643843586</td>\n",
       "      <td>...</td>\n",
       "      <td>cell</td>\n",
       "      <td>Verizon</td>\n",
       "      <td>US</td>\n",
       "      <td>Cherry Hill</td>\n",
       "      <td>banner</td>\n",
       "      <td></td>\n",
       "      <td>1</td>\n",
       "      <td>0.00</td>\n",
       "      <td>0.28</td>\n",
       "      <td>Google AdMob</td>\n",
       "    </tr>\n",
       "    <tr>\n",
       "      <th>860077</th>\n",
       "      <td>JLKWwju79CA</td>\n",
       "      <td>12</td>\n",
       "      <td>Samsung</td>\n",
       "      <td>SM-G991U</td>\n",
       "      <td>phone</td>\n",
       "      <td>en_US</td>\n",
       "      <td>c_ad_revenue</td>\n",
       "      <td>{\"ad_type\":\"banner\",\"placement\":\"\",\"view_index...</td>\n",
       "      <td>2022-02-03 02:13:17</td>\n",
       "      <td>1643843597</td>\n",
       "      <td>...</td>\n",
       "      <td>cell</td>\n",
       "      <td>Verizon</td>\n",
       "      <td>US</td>\n",
       "      <td>Cherry Hill</td>\n",
       "      <td>banner</td>\n",
       "      <td></td>\n",
       "      <td>1</td>\n",
       "      <td>0.00</td>\n",
       "      <td>0.28</td>\n",
       "      <td>Google AdMob</td>\n",
       "    </tr>\n",
       "    <tr>\n",
       "      <th>860078</th>\n",
       "      <td>JLKWwju79CA</td>\n",
       "      <td>12</td>\n",
       "      <td>Samsung</td>\n",
       "      <td>SM-G991U</td>\n",
       "      <td>phone</td>\n",
       "      <td>en_US</td>\n",
       "      <td>c_ad_revenue</td>\n",
       "      <td>{\"ad_type\":\"banner\",\"placement\":\"\",\"view_index...</td>\n",
       "      <td>2022-02-03 03:11:44</td>\n",
       "      <td>1643847104</td>\n",
       "      <td>...</td>\n",
       "      <td>cell</td>\n",
       "      <td>Verizon</td>\n",
       "      <td>US</td>\n",
       "      <td>Cherry Hill</td>\n",
       "      <td>banner</td>\n",
       "      <td></td>\n",
       "      <td>1</td>\n",
       "      <td>0.00</td>\n",
       "      <td>0.29</td>\n",
       "      <td>Google AdMob</td>\n",
       "    </tr>\n",
       "  </tbody>\n",
       "</table>\n",
       "<p>860079 rows × 22 columns</p>\n",
       "</div>"
      ],
      "text/plain": [
       "         profile_id os_version device_manufacturer         device_model  \\\n",
       "0       JLjpGzDHBQm         11             Samsung        Galaxy Tab S6   \n",
       "1       JLjpGzDHBQm         11             Samsung        Galaxy Tab S6   \n",
       "2       JLkVacrzHY6         11              Google              Pixel 2   \n",
       "3       JMC6wG3cX0f         10             Samsung            Galaxy S9   \n",
       "4       JLzWWTJfi1b         10             Samsung            Galaxy S9   \n",
       "...             ...        ...                 ...                  ...   \n",
       "860074  JLSQY2nx1NQ         12             Samsung  Galaxy S21 Ultra 5G   \n",
       "860075  JLKWwju79CA         12             Samsung             SM-G991U   \n",
       "860076  JLKWwju79CA         12             Samsung             SM-G991U   \n",
       "860077  JLKWwju79CA         12             Samsung             SM-G991U   \n",
       "860078  JLKWwju79CA         12             Samsung             SM-G991U   \n",
       "\n",
       "       device_type device_locale    event_name  \\\n",
       "0           tablet         en_US  c_ad_revenue   \n",
       "1           tablet         en_US  c_ad_revenue   \n",
       "2            phone         en_US  c_ad_revenue   \n",
       "3            phone         en_US  c_ad_revenue   \n",
       "4            phone         en_US  c_ad_revenue   \n",
       "...            ...           ...           ...   \n",
       "860074       phone         en_US  c_ad_revenue   \n",
       "860075       phone         en_US  c_ad_revenue   \n",
       "860076       phone         en_US  c_ad_revenue   \n",
       "860077       phone         en_US  c_ad_revenue   \n",
       "860078       phone         en_US  c_ad_revenue   \n",
       "\n",
       "                                               event_json      event_datetime  \\\n",
       "0       {\"ad_type\":\"banner\",\"placement\":\"\",\"view_index... 2022-02-04 20:02:28   \n",
       "1       {\"ad_type\":\"banner\",\"placement\":\"\",\"view_index... 2022-02-04 20:02:45   \n",
       "2       {\"ad_type\":\"banner\",\"placement\":\"\",\"view_index... 2022-02-05 17:53:05   \n",
       "3       {\"ad_type\":\"int\",\"placement\":\"next_level\",\"vie... 2022-02-06 17:09:01   \n",
       "4       {\"ad_type\":\"banner\",\"placement\":\"\",\"view_index... 2022-02-06 17:15:38   \n",
       "...                                                   ...                 ...   \n",
       "860074  {\"ad_type\":\"banner\",\"placement\":\"\",\"view_index... 2022-02-03 08:29:27   \n",
       "860075  {\"ad_type\":\"banner\",\"placement\":\"\",\"view_index... 2022-02-03 02:12:51   \n",
       "860076  {\"ad_type\":\"banner\",\"placement\":\"\",\"view_index... 2022-02-03 02:13:06   \n",
       "860077  {\"ad_type\":\"banner\",\"placement\":\"\",\"view_index... 2022-02-03 02:13:17   \n",
       "860078  {\"ad_type\":\"banner\",\"placement\":\"\",\"view_index... 2022-02-03 03:11:44   \n",
       "\n",
       "       event_timestamp  ... connection_type operator_name country_iso_code  \\\n",
       "0           1643994148  ...            wifi           NaN               US   \n",
       "1           1643994165  ...            wifi           NaN               US   \n",
       "2           1644072785  ...            wifi       Verizon               US   \n",
       "3           1644156541  ...            wifi      T-Mobile               US   \n",
       "4           1644156938  ...            cell      Verizon                US   \n",
       "...                ...  ...             ...           ...              ...   \n",
       "860074      1643866167  ...            wifi      Verizon                US   \n",
       "860075      1643843571  ...            cell      Verizon                US   \n",
       "860076      1643843586  ...            cell      Verizon                US   \n",
       "860077      1643843597  ...            cell      Verizon                US   \n",
       "860078      1643847104  ...            cell      Verizon                US   \n",
       "\n",
       "               city ad_type   placement view_index revenue  ads_ltv  \\\n",
       "0           Norwalk  banner                      1    0.00     0.49   \n",
       "1           Norwalk  banner                      1    0.00     0.49   \n",
       "2         Charlotte  banner                      1    0.00     0.68   \n",
       "3             Cocoa     int  next_level          1    0.01     0.01   \n",
       "4               NaN  banner                      1    0.01     0.06   \n",
       "...             ...     ...         ...        ...     ...      ...   \n",
       "860074       Elmira  banner                      1    0.00     1.01   \n",
       "860075  Cherry Hill  banner                      1    0.01     0.28   \n",
       "860076  Cherry Hill  banner                      1    0.00     0.28   \n",
       "860077  Cherry Hill  banner                      1    0.00     0.28   \n",
       "860078  Cherry Hill  banner                      1    0.00     0.29   \n",
       "\n",
       "             network_name  \n",
       "0            Google AdMob  \n",
       "1            Google AdMob  \n",
       "2       APPLOVIN_EXCHANGE  \n",
       "3                AppLovin  \n",
       "4            Google AdMob  \n",
       "...                   ...  \n",
       "860074  APPLOVIN_EXCHANGE  \n",
       "860075       Google AdMob  \n",
       "860076       Google AdMob  \n",
       "860077       Google AdMob  \n",
       "860078       Google AdMob  \n",
       "\n",
       "[860079 rows x 22 columns]"
      ]
     },
     "execution_count": 7,
     "metadata": {},
     "output_type": "execute_result"
    }
   ],
   "source": [
    "# извлечем из столбца `event_json` необходимые данные. В случае необходимости можем добавить новые значения\n",
    "for _ in ['ad_type', 'placement', 'view_index', 'revenue', 'ads_ltv', 'network_name']:\n",
    "    data[_] = data['event_json'].map(lambda x: json.loads(x)[_])\n",
    "data"
   ]
  },
  {
   "cell_type": "markdown",
   "id": "3c3bc2de",
   "metadata": {},
   "source": [
    "## Анализ данных"
   ]
  },
  {
   "cell_type": "markdown",
   "id": "56d72e6b",
   "metadata": {},
   "source": [
    "### Столбец `revenue`"
   ]
  },
  {
   "cell_type": "code",
   "execution_count": 8,
   "id": "2855ecae",
   "metadata": {},
   "outputs": [
    {
     "data": {
      "text/html": [
       "<div>\n",
       "<style scoped>\n",
       "    .dataframe tbody tr th:only-of-type {\n",
       "        vertical-align: middle;\n",
       "    }\n",
       "\n",
       "    .dataframe tbody tr th {\n",
       "        vertical-align: top;\n",
       "    }\n",
       "\n",
       "    .dataframe thead th {\n",
       "        text-align: right;\n",
       "    }\n",
       "</style>\n",
       "<table border=\"1\" class=\"dataframe\">\n",
       "  <thead>\n",
       "    <tr style=\"text-align: right;\">\n",
       "      <th></th>\n",
       "      <th>view_index</th>\n",
       "      <th>revenue</th>\n",
       "      <th>ads_ltv</th>\n",
       "    </tr>\n",
       "  </thead>\n",
       "  <tbody>\n",
       "    <tr>\n",
       "      <th>count</th>\n",
       "      <td>860079.00</td>\n",
       "      <td>860079.00</td>\n",
       "      <td>860079.00</td>\n",
       "    </tr>\n",
       "    <tr>\n",
       "      <th>mean</th>\n",
       "      <td>2.05</td>\n",
       "      <td>0.00</td>\n",
       "      <td>1.42</td>\n",
       "    </tr>\n",
       "    <tr>\n",
       "      <th>std</th>\n",
       "      <td>9.68</td>\n",
       "      <td>0.02</td>\n",
       "      <td>2.12</td>\n",
       "    </tr>\n",
       "    <tr>\n",
       "      <th>min</th>\n",
       "      <td>1.00</td>\n",
       "      <td>0.00</td>\n",
       "      <td>0.00</td>\n",
       "    </tr>\n",
       "    <tr>\n",
       "      <th>25%</th>\n",
       "      <td>1.00</td>\n",
       "      <td>0.00</td>\n",
       "      <td>0.27</td>\n",
       "    </tr>\n",
       "    <tr>\n",
       "      <th>50%</th>\n",
       "      <td>1.00</td>\n",
       "      <td>0.00</td>\n",
       "      <td>0.68</td>\n",
       "    </tr>\n",
       "    <tr>\n",
       "      <th>75%</th>\n",
       "      <td>1.00</td>\n",
       "      <td>0.00</td>\n",
       "      <td>1.60</td>\n",
       "    </tr>\n",
       "    <tr>\n",
       "      <th>max</th>\n",
       "      <td>417.00</td>\n",
       "      <td>0.94</td>\n",
       "      <td>26.70</td>\n",
       "    </tr>\n",
       "  </tbody>\n",
       "</table>\n",
       "</div>"
      ],
      "text/plain": [
       "       view_index   revenue   ads_ltv\n",
       "count   860079.00 860079.00 860079.00\n",
       "mean         2.05      0.00      1.42\n",
       "std          9.68      0.02      2.12\n",
       "min          1.00      0.00      0.00\n",
       "25%          1.00      0.00      0.27\n",
       "50%          1.00      0.00      0.68\n",
       "75%          1.00      0.00      1.60\n",
       "max        417.00      0.94     26.70"
      ]
     },
     "metadata": {},
     "output_type": "display_data"
    },
    {
     "data": {
      "image/png": "[encoded data removed]",
      "text/plain": [
       "<Figure size 432x288 with 1 Axes>"
      ]
     },
     "metadata": {},
     "output_type": "display_data"
    },
    {
     "data": {
      "image/png": "[encoded data removed]",
      "text/plain": [
       "<Figure size 720x360 with 1 Axes>"
      ]
     },
     "metadata": {},
     "output_type": "display_data"
    }
   ],
   "source": [
    "display(data.describe())\n",
    "\n",
    "sns.set_theme(style=\"whitegrid\")\n",
    "sns.boxplot(data['revenue'])\n",
    "plt.show()\n",
    "\n",
    "data.plot(y='revenue', figsize=(10, 5))\n",
    "plt.show()"
   ]
  },
  {
   "cell_type": "code",
   "execution_count": 9,
   "id": "9882ed5b",
   "metadata": {},
   "outputs": [
    {
     "data": {
      "text/plain": [
       "0.05848"
      ]
     },
     "execution_count": 9,
     "metadata": {},
     "output_type": "execute_result"
    }
   ],
   "source": [
    "data['revenue'].quantile(0.99)"
   ]
  },
  {
   "cell_type": "markdown",
   "id": "52fdf8e2",
   "metadata": {},
   "source": [
    "У 99% пользователей выручка находится меньше указанного выше числа. Примем его за порог отсечения. Все что больше будем считать выбросом при расчете средних значений."
   ]
  },
  {
   "cell_type": "markdown",
   "id": "28d6ac45",
   "metadata": {},
   "source": [
    "## Бизнесс задача"
   ]
  },
  {
   "cell_type": "markdown",
   "id": "f445502c",
   "metadata": {},
   "source": [
    "### отобразить суммарные доходы по городам, версиям ОС"
   ]
  },
  {
   "cell_type": "markdown",
   "id": "577201eb",
   "metadata": {},
   "source": [
    "Начнем с сумарных доходов, так как в последствии для расчета средних будем отсекать выбросы"
   ]
  },
  {
   "cell_type": "code",
   "execution_count": 10,
   "id": "103242ab",
   "metadata": {},
   "outputs": [
    {
     "data": {
      "text/html": [
       "<div>\n",
       "<style scoped>\n",
       "    .dataframe tbody tr th:only-of-type {\n",
       "        vertical-align: middle;\n",
       "    }\n",
       "\n",
       "    .dataframe tbody tr th {\n",
       "        vertical-align: top;\n",
       "    }\n",
       "\n",
       "    .dataframe thead th {\n",
       "        text-align: right;\n",
       "    }\n",
       "</style>\n",
       "<table border=\"1\" class=\"dataframe\">\n",
       "  <thead>\n",
       "    <tr style=\"text-align: right;\">\n",
       "      <th></th>\n",
       "      <th>city</th>\n",
       "      <th>revenue</th>\n",
       "    </tr>\n",
       "  </thead>\n",
       "  <tbody>\n",
       "    <tr>\n",
       "      <th>0</th>\n",
       "      <td>New York</td>\n",
       "      <td>47.45</td>\n",
       "    </tr>\n",
       "    <tr>\n",
       "      <th>1</th>\n",
       "      <td>Indianapolis</td>\n",
       "      <td>36.68</td>\n",
       "    </tr>\n",
       "    <tr>\n",
       "      <th>2</th>\n",
       "      <td>Houston</td>\n",
       "      <td>34.55</td>\n",
       "    </tr>\n",
       "    <tr>\n",
       "      <th>3</th>\n",
       "      <td>Minneapolis</td>\n",
       "      <td>34.24</td>\n",
       "    </tr>\n",
       "    <tr>\n",
       "      <th>4</th>\n",
       "      <td>Cleveland</td>\n",
       "      <td>32.48</td>\n",
       "    </tr>\n",
       "    <tr>\n",
       "      <th>5</th>\n",
       "      <td>Charlotte</td>\n",
       "      <td>25.62</td>\n",
       "    </tr>\n",
       "    <tr>\n",
       "      <th>6</th>\n",
       "      <td>Columbus</td>\n",
       "      <td>22.16</td>\n",
       "    </tr>\n",
       "    <tr>\n",
       "      <th>7</th>\n",
       "      <td>Los Angeles</td>\n",
       "      <td>19.74</td>\n",
       "    </tr>\n",
       "    <tr>\n",
       "      <th>8</th>\n",
       "      <td>Spokane</td>\n",
       "      <td>18.92</td>\n",
       "    </tr>\n",
       "    <tr>\n",
       "      <th>9</th>\n",
       "      <td>Dallas</td>\n",
       "      <td>18.75</td>\n",
       "    </tr>\n",
       "  </tbody>\n",
       "</table>\n",
       "</div>"
      ],
      "text/plain": [
       "           city  revenue\n",
       "0      New York    47.45\n",
       "1  Indianapolis    36.68\n",
       "2       Houston    34.55\n",
       "3   Minneapolis    34.24\n",
       "4     Cleveland    32.48\n",
       "5     Charlotte    25.62\n",
       "6      Columbus    22.16\n",
       "7   Los Angeles    19.74\n",
       "8       Spokane    18.92\n",
       "9        Dallas    18.75"
      ]
     },
     "metadata": {},
     "output_type": "display_data"
    }
   ],
   "source": [
    "data_rev_city=data.groupby('city')['revenue'].sum().sort_values(ascending = False).reset_index()\n",
    "display(data_rev_city.head(10))"
   ]
  },
  {
   "cell_type": "code",
   "execution_count": 11,
   "id": "0dde69a9",
   "metadata": {},
   "outputs": [
    {
     "data": {
      "image/png": "[encoded data removed]",
      "text/plain": [
       "<Figure size 1152x360 with 1 Axes>"
      ]
     },
     "metadata": {},
     "output_type": "display_data"
    }
   ],
   "source": [
    "plt.figure(figsize=(16, 5))\n",
    "plt.title('Топ 10 городов по суммарной выручки')\n",
    "sns.barplot(data = data_rev_city.head(10), x='city', y='revenue').set_ylabel('Выручка')\n",
    "plt.show()"
   ]
  },
  {
   "cell_type": "code",
   "execution_count": 12,
   "id": "ca1a47df",
   "metadata": {},
   "outputs": [
    {
     "data": {
      "text/html": [
       "<div>\n",
       "<style scoped>\n",
       "    .dataframe tbody tr th:only-of-type {\n",
       "        vertical-align: middle;\n",
       "    }\n",
       "\n",
       "    .dataframe tbody tr th {\n",
       "        vertical-align: top;\n",
       "    }\n",
       "\n",
       "    .dataframe thead th {\n",
       "        text-align: right;\n",
       "    }\n",
       "</style>\n",
       "<table border=\"1\" class=\"dataframe\">\n",
       "  <thead>\n",
       "    <tr style=\"text-align: right;\">\n",
       "      <th></th>\n",
       "      <th>os_version</th>\n",
       "      <th>revenue</th>\n",
       "    </tr>\n",
       "  </thead>\n",
       "  <tbody>\n",
       "    <tr>\n",
       "      <th>0</th>\n",
       "      <td>12</td>\n",
       "      <td>1305.58</td>\n",
       "    </tr>\n",
       "    <tr>\n",
       "      <th>1</th>\n",
       "      <td>11</td>\n",
       "      <td>587.22</td>\n",
       "    </tr>\n",
       "    <tr>\n",
       "      <th>2</th>\n",
       "      <td>10</td>\n",
       "      <td>328.27</td>\n",
       "    </tr>\n",
       "    <tr>\n",
       "      <th>3</th>\n",
       "      <td>9</td>\n",
       "      <td>133.11</td>\n",
       "    </tr>\n",
       "    <tr>\n",
       "      <th>4</th>\n",
       "      <td>8.0.0</td>\n",
       "      <td>11.89</td>\n",
       "    </tr>\n",
       "    <tr>\n",
       "      <th>5</th>\n",
       "      <td>7.0</td>\n",
       "      <td>10.95</td>\n",
       "    </tr>\n",
       "    <tr>\n",
       "      <th>6</th>\n",
       "      <td>8.1.0</td>\n",
       "      <td>9.79</td>\n",
       "    </tr>\n",
       "    <tr>\n",
       "      <th>7</th>\n",
       "      <td>7.1.1</td>\n",
       "      <td>1.62</td>\n",
       "    </tr>\n",
       "    <tr>\n",
       "      <th>8</th>\n",
       "      <td>7.1.2</td>\n",
       "      <td>1.09</td>\n",
       "    </tr>\n",
       "    <tr>\n",
       "      <th>9</th>\n",
       "      <td>6.0.1</td>\n",
       "      <td>0.78</td>\n",
       "    </tr>\n",
       "    <tr>\n",
       "      <th>10</th>\n",
       "      <td>5.0.2</td>\n",
       "      <td>0.49</td>\n",
       "    </tr>\n",
       "  </tbody>\n",
       "</table>\n",
       "</div>"
      ],
      "text/plain": [
       "   os_version  revenue\n",
       "0          12  1305.58\n",
       "1          11   587.22\n",
       "2          10   328.27\n",
       "3           9   133.11\n",
       "4       8.0.0    11.89\n",
       "5         7.0    10.95\n",
       "6       8.1.0     9.79\n",
       "7       7.1.1     1.62\n",
       "8       7.1.2     1.09\n",
       "9       6.0.1     0.78\n",
       "10      5.0.2     0.49"
      ]
     },
     "execution_count": 12,
     "metadata": {},
     "output_type": "execute_result"
    }
   ],
   "source": [
    "data_rev_os=data.groupby('os_version')['revenue'].sum().sort_values(ascending = False).reset_index()\n",
    "data_rev_os"
   ]
  },
  {
   "cell_type": "code",
   "execution_count": 13,
   "id": "e3ed77a3",
   "metadata": {},
   "outputs": [
    {
     "data": {
      "image/png": "[encoded data removed]",
      "text/plain": [
       "<Figure size 720x720 with 1 Axes>"
      ]
     },
     "metadata": {},
     "output_type": "display_data"
    }
   ],
   "source": [
    "# посторим пирог\n",
    "plt.figure(figsize=(10, 10))\n",
    "labels = data_rev_os['os_version']\n",
    "colors = sns.color_palette('bright')\n",
    "explode = [0.1, 0, 0, 0, 0, 0, 0, 0, 0, 0, 0]\n",
    "plt.pie(data_rev_os['revenue'], \n",
    "        labels=labels,\n",
    "        colors = colors, \n",
    "        autopct = '%0.0f%%', \n",
    "        explode = explode)\n",
    "plt.title('Распределение суммарной выручки по версиям операционным системам')\n",
    "plt.show()"
   ]
  },
  {
   "cell_type": "markdown",
   "id": "8ce7eb97",
   "metadata": {},
   "source": [
    "### Построить распределение средних eCPM-ов юзеров"
   ]
  },
  {
   "cell_type": "code",
   "execution_count": 14,
   "id": "dad8939a",
   "metadata": {},
   "outputs": [],
   "source": [
    "# Для расчета среднего значения убирем выбросы\n",
    "data=data.loc[data['revenue'] < data['revenue'].quantile(0.99)]"
   ]
  },
  {
   "cell_type": "code",
   "execution_count": 15,
   "id": "e19e12eb",
   "metadata": {},
   "outputs": [
    {
     "data": {
      "text/html": [
       "<div>\n",
       "<style scoped>\n",
       "    .dataframe tbody tr th:only-of-type {\n",
       "        vertical-align: middle;\n",
       "    }\n",
       "\n",
       "    .dataframe tbody tr th {\n",
       "        vertical-align: top;\n",
       "    }\n",
       "\n",
       "    .dataframe thead th {\n",
       "        text-align: right;\n",
       "    }\n",
       "</style>\n",
       "<table border=\"1\" class=\"dataframe\">\n",
       "  <thead>\n",
       "    <tr style=\"text-align: right;\">\n",
       "      <th></th>\n",
       "      <th>profile_id</th>\n",
       "      <th>eCPM</th>\n",
       "      <th>ads_ltv</th>\n",
       "    </tr>\n",
       "  </thead>\n",
       "  <tbody>\n",
       "    <tr>\n",
       "      <th>0</th>\n",
       "      <td>JLtRRNx2ANZ</td>\n",
       "      <td>58.46</td>\n",
       "      <td>0.14</td>\n",
       "    </tr>\n",
       "    <tr>\n",
       "      <th>1</th>\n",
       "      <td>JLquHKGepA6</td>\n",
       "      <td>58.43</td>\n",
       "      <td>0.19</td>\n",
       "    </tr>\n",
       "    <tr>\n",
       "      <th>2</th>\n",
       "      <td>JL57SduSviq</td>\n",
       "      <td>57.84</td>\n",
       "      <td>0.06</td>\n",
       "    </tr>\n",
       "    <tr>\n",
       "      <th>3</th>\n",
       "      <td>JMAortD4wrJ</td>\n",
       "      <td>57.51</td>\n",
       "      <td>0.06</td>\n",
       "    </tr>\n",
       "    <tr>\n",
       "      <th>4</th>\n",
       "      <td>JMAEMC8AeG0</td>\n",
       "      <td>56.89</td>\n",
       "      <td>0.25</td>\n",
       "    </tr>\n",
       "    <tr>\n",
       "      <th>...</th>\n",
       "      <td>...</td>\n",
       "      <td>...</td>\n",
       "      <td>...</td>\n",
       "    </tr>\n",
       "    <tr>\n",
       "      <th>3962</th>\n",
       "      <td>JMGgSSx40E1</td>\n",
       "      <td>0.08</td>\n",
       "      <td>0.00</td>\n",
       "    </tr>\n",
       "    <tr>\n",
       "      <th>3963</th>\n",
       "      <td>JLrXfsw1r8g</td>\n",
       "      <td>0.08</td>\n",
       "      <td>0.06</td>\n",
       "    </tr>\n",
       "    <tr>\n",
       "      <th>3964</th>\n",
       "      <td>JLyiKRAd5r3</td>\n",
       "      <td>0.06</td>\n",
       "      <td>0.00</td>\n",
       "    </tr>\n",
       "    <tr>\n",
       "      <th>3965</th>\n",
       "      <td>JMDtgimxrhR</td>\n",
       "      <td>0.05</td>\n",
       "      <td>0.00</td>\n",
       "    </tr>\n",
       "    <tr>\n",
       "      <th>3966</th>\n",
       "      <td>JLMPHS0N9pN</td>\n",
       "      <td>0.04</td>\n",
       "      <td>0.32</td>\n",
       "    </tr>\n",
       "  </tbody>\n",
       "</table>\n",
       "<p>3967 rows × 3 columns</p>\n",
       "</div>"
      ],
      "text/plain": [
       "       profile_id  eCPM  ads_ltv\n",
       "0     JLtRRNx2ANZ 58.46     0.14\n",
       "1     JLquHKGepA6 58.43     0.19\n",
       "2     JL57SduSviq 57.84     0.06\n",
       "3     JMAortD4wrJ 57.51     0.06\n",
       "4     JMAEMC8AeG0 56.89     0.25\n",
       "...           ...   ...      ...\n",
       "3962  JMGgSSx40E1  0.08     0.00\n",
       "3963  JLrXfsw1r8g  0.08     0.06\n",
       "3964  JLyiKRAd5r3  0.06     0.00\n",
       "3965  JMDtgimxrhR  0.05     0.00\n",
       "3966  JLMPHS0N9pN  0.04     0.32\n",
       "\n",
       "[3967 rows x 3 columns]"
      ]
     },
     "execution_count": 15,
     "metadata": {},
     "output_type": "execute_result"
    }
   ],
   "source": [
    "data['eCPM'] = data['revenue']*1000\n",
    "user_ecpm=data.groupby('profile_id').agg({'eCPM':'mean', 'ads_ltv': 'max' }).sort_values(by='eCPM', ascending = False).reset_index()\n",
    "user_ecpm"
   ]
  },
  {
   "cell_type": "code",
   "execution_count": 16,
   "id": "67a9ede2",
   "metadata": {},
   "outputs": [
    {
     "data": {
      "image/png": "[encoded data removed]",
      "text/plain": [
       "<Figure size 432x288 with 1 Axes>"
      ]
     },
     "metadata": {},
     "output_type": "display_data"
    }
   ],
   "source": [
    "sns.boxplot(user_ecpm['eCPM'])\n",
    "plt.show()"
   ]
  },
  {
   "cell_type": "code",
   "execution_count": 17,
   "id": "eaf762d8",
   "metadata": {},
   "outputs": [
    {
     "data": {
      "image/png": "[encoded data removed]",
      "text/plain": [
       "<Figure size 432x432 with 3 Axes>"
      ]
     },
     "metadata": {},
     "output_type": "display_data"
    }
   ],
   "source": [
    "sns.jointplot(x=\"eCPM\", y=\"ads_ltv\", data=user_ecpm)\n",
    "plt.show()"
   ]
  },
  {
   "cell_type": "markdown",
   "id": "de07e56c",
   "metadata": {},
   "source": [
    "**Вывод** Важный показатель `ads_ltv` он показывает сколько заработал юзер и из графика выше, можно увидеть, что больше всего приносит прибыли реклама, цена которой (eCPM) находится от 0 до 5 долларов"
   ]
  },
  {
   "cell_type": "markdown",
   "id": "29b7d710",
   "metadata": {},
   "source": [
    "### Отобразить средние eCPM-ы по городам, версиям ОС"
   ]
  },
  {
   "cell_type": "code",
   "execution_count": 18,
   "id": "15603404",
   "metadata": {},
   "outputs": [
    {
     "data": {
      "text/html": [
       "<div>\n",
       "<style scoped>\n",
       "    .dataframe tbody tr th:only-of-type {\n",
       "        vertical-align: middle;\n",
       "    }\n",
       "\n",
       "    .dataframe tbody tr th {\n",
       "        vertical-align: top;\n",
       "    }\n",
       "\n",
       "    .dataframe thead th {\n",
       "        text-align: right;\n",
       "    }\n",
       "</style>\n",
       "<table border=\"1\" class=\"dataframe\">\n",
       "  <thead>\n",
       "    <tr style=\"text-align: right;\">\n",
       "      <th></th>\n",
       "      <th>city</th>\n",
       "      <th>eCPM</th>\n",
       "      <th>profile_id</th>\n",
       "      <th>revenue</th>\n",
       "    </tr>\n",
       "  </thead>\n",
       "  <tbody>\n",
       "    <tr>\n",
       "      <th>0</th>\n",
       "      <td>Burnsville</td>\n",
       "      <td>45.98</td>\n",
       "      <td>1</td>\n",
       "      <td>0.05</td>\n",
       "    </tr>\n",
       "    <tr>\n",
       "      <th>1</th>\n",
       "      <td>Salisbury</td>\n",
       "      <td>45.48</td>\n",
       "      <td>2</td>\n",
       "      <td>0.09</td>\n",
       "    </tr>\n",
       "    <tr>\n",
       "      <th>2</th>\n",
       "      <td>Round Rock</td>\n",
       "      <td>43.42</td>\n",
       "      <td>1</td>\n",
       "      <td>0.04</td>\n",
       "    </tr>\n",
       "    <tr>\n",
       "      <th>3</th>\n",
       "      <td>Brandon</td>\n",
       "      <td>38.65</td>\n",
       "      <td>1</td>\n",
       "      <td>0.04</td>\n",
       "    </tr>\n",
       "    <tr>\n",
       "      <th>4</th>\n",
       "      <td>Willmar</td>\n",
       "      <td>37.88</td>\n",
       "      <td>1</td>\n",
       "      <td>0.04</td>\n",
       "    </tr>\n",
       "    <tr>\n",
       "      <th>...</th>\n",
       "      <td>...</td>\n",
       "      <td>...</td>\n",
       "      <td>...</td>\n",
       "      <td>...</td>\n",
       "    </tr>\n",
       "    <tr>\n",
       "      <th>882</th>\n",
       "      <td>Beaumont</td>\n",
       "      <td>0.09</td>\n",
       "      <td>1</td>\n",
       "      <td>0.00</td>\n",
       "    </tr>\n",
       "    <tr>\n",
       "      <th>883</th>\n",
       "      <td>Kingston</td>\n",
       "      <td>0.09</td>\n",
       "      <td>1</td>\n",
       "      <td>0.00</td>\n",
       "    </tr>\n",
       "    <tr>\n",
       "      <th>884</th>\n",
       "      <td>Camden</td>\n",
       "      <td>0.07</td>\n",
       "      <td>60</td>\n",
       "      <td>0.00</td>\n",
       "    </tr>\n",
       "    <tr>\n",
       "      <th>885</th>\n",
       "      <td>Waukesha</td>\n",
       "      <td>0.04</td>\n",
       "      <td>1</td>\n",
       "      <td>0.00</td>\n",
       "    </tr>\n",
       "    <tr>\n",
       "      <th>886</th>\n",
       "      <td>Bell Gardens</td>\n",
       "      <td>0.04</td>\n",
       "      <td>7</td>\n",
       "      <td>0.00</td>\n",
       "    </tr>\n",
       "  </tbody>\n",
       "</table>\n",
       "<p>887 rows × 4 columns</p>\n",
       "</div>"
      ],
      "text/plain": [
       "             city  eCPM  profile_id  revenue\n",
       "0      Burnsville 45.98           1     0.05\n",
       "1       Salisbury 45.48           2     0.09\n",
       "2      Round Rock 43.42           1     0.04\n",
       "3         Brandon 38.65           1     0.04\n",
       "4         Willmar 37.88           1     0.04\n",
       "..            ...   ...         ...      ...\n",
       "882      Beaumont  0.09           1     0.00\n",
       "883      Kingston  0.09           1     0.00\n",
       "884        Camden  0.07          60     0.00\n",
       "885      Waukesha  0.04           1     0.00\n",
       "886  Bell Gardens  0.04           7     0.00\n",
       "\n",
       "[887 rows x 4 columns]"
      ]
     },
     "execution_count": 18,
     "metadata": {},
     "output_type": "execute_result"
    }
   ],
   "source": [
    "city_ecpm = data.groupby('city').agg({'eCPM':'mean', \n",
    "                                      'profile_id':'count',\n",
    "                                      'revenue':'sum'}).sort_values(by='eCPM', \n",
    "                                                                        ascending = False).reset_index()\n",
    "city_ecpm"
   ]
  },
  {
   "cell_type": "code",
   "execution_count": 19,
   "id": "0bff4811",
   "metadata": {},
   "outputs": [
    {
     "data": {
      "text/html": [
       "<div>\n",
       "<style scoped>\n",
       "    .dataframe tbody tr th:only-of-type {\n",
       "        vertical-align: middle;\n",
       "    }\n",
       "\n",
       "    .dataframe tbody tr th {\n",
       "        vertical-align: top;\n",
       "    }\n",
       "\n",
       "    .dataframe thead th {\n",
       "        text-align: right;\n",
       "    }\n",
       "</style>\n",
       "<table border=\"1\" class=\"dataframe\">\n",
       "  <thead>\n",
       "    <tr style=\"text-align: right;\">\n",
       "      <th></th>\n",
       "      <th>city</th>\n",
       "      <th>eCPM</th>\n",
       "      <th>profile_id</th>\n",
       "      <th>revenue</th>\n",
       "    </tr>\n",
       "  </thead>\n",
       "  <tbody>\n",
       "    <tr>\n",
       "      <th>523</th>\n",
       "      <td>New York</td>\n",
       "      <td>1.50</td>\n",
       "      <td>17415</td>\n",
       "      <td>26.15</td>\n",
       "    </tr>\n",
       "  </tbody>\n",
       "</table>\n",
       "</div>"
      ],
      "text/plain": [
       "         city  eCPM  profile_id  revenue\n",
       "523  New York  1.50       17415    26.15"
      ]
     },
     "execution_count": 19,
     "metadata": {},
     "output_type": "execute_result"
    }
   ],
   "source": [
    "city_ecpm.query('profile_id>17000')"
   ]
  },
  {
   "cell_type": "code",
   "execution_count": 20,
   "id": "53f981e4",
   "metadata": {},
   "outputs": [
    {
     "data": {
      "image/png": "[encoded data removed]",
      "text/plain": [
       "<Figure size 432x432 with 3 Axes>"
      ]
     },
     "metadata": {},
     "output_type": "display_data"
    }
   ],
   "source": [
    "sns.jointplot(x=\"eCPM\", y=\"profile_id\", data=city_ecpm)\n",
    "plt.show()"
   ]
  },
  {
   "cell_type": "code",
   "execution_count": 21,
   "id": "b947dc6b",
   "metadata": {},
   "outputs": [
    {
     "data": {
      "image/png": "[encoded data removed]",
      "text/plain": [
       "<Figure size 360x360 with 1 Axes>"
      ]
     },
     "metadata": {},
     "output_type": "display_data"
    }
   ],
   "source": [
    "sns.relplot(x=\"revenue\", y=\"profile_id\", data=city_ecpm)\n",
    "plt.show()"
   ]
  },
  {
   "cell_type": "markdown",
   "id": "10e776a3",
   "metadata": {},
   "source": [
    "**Вывод** По первому графику видно, больше всего по количеству показывается реклама с eCPM от 0 до 5, и второй график показывает корреляциюколичества показов и прибыли. Наиболее интересный город Нью-Йорк"
   ]
  },
  {
   "cell_type": "markdown",
   "id": "34f2f3ba",
   "metadata": {},
   "source": [
    "### Зависит ли eCPM от времени дня"
   ]
  },
  {
   "cell_type": "code",
   "execution_count": 22,
   "id": "42f46c93",
   "metadata": {},
   "outputs": [],
   "source": [
    "# проведем анализ в разрезе часов\n",
    "data['hour'] = data['event_datetime'].dt.hour"
   ]
  },
  {
   "cell_type": "markdown",
   "id": "581f4b5d",
   "metadata": {},
   "source": [
    "Наш датасет начинается с 2022-01-29 17:42:32. Для более правильного распределения возьмем данные за полный день"
   ]
  },
  {
   "cell_type": "code",
   "execution_count": 23,
   "id": "c658d697",
   "metadata": {},
   "outputs": [
    {
     "data": {
      "image/png": "[encoded data removed]",
      "text/plain": [
       "<Figure size 504x360 with 1 Axes>"
      ]
     },
     "metadata": {},
     "output_type": "display_data"
    }
   ],
   "source": [
    "date = ''\n",
    "data.query('event_datetime > \"2022-01-30 00:00:00\"').groupby('hour')['revenue'].mean().plot(grid=True, kind='bar', figsize=(7, 5))\n",
    "plt.title('средняя прибыль в час')\n",
    "plt.show()"
   ]
  },
  {
   "cell_type": "code",
   "execution_count": 24,
   "id": "b58b4cb7",
   "metadata": {},
   "outputs": [
    {
     "data": {
      "image/png": "[encoded data removed]",
      "text/plain": [
       "<Figure size 504x360 with 1 Axes>"
      ]
     },
     "metadata": {},
     "output_type": "display_data"
    }
   ],
   "source": [
    "data.query('event_datetime > \"2022-01-30 00:00:00\"').groupby('hour')['revenue'].sum().plot(grid=True, kind='bar', figsize=(7, 5))\n",
    "plt.title('распределение прибыли по часам')\n",
    "plt.show()"
   ]
  },
  {
   "cell_type": "markdown",
   "id": "122cd9f5",
   "metadata": {},
   "source": [
    "**Вывод:** Среднее значение прибыли не зависит от времени суток, а вот по суммарной прибыли виден провал в районе 13-14 часов. Прежде чем делать вывод нужно разобраться в каком часовом поясе записываеся событие. Если в чаосвом поясе +- Москва, то тогда в том же Нью-Йорке ночь и картина становится более правдоподобна"
   ]
  },
  {
   "cell_type": "markdown",
   "id": "bab6e148",
   "metadata": {},
   "source": [
    "## Вывод"
   ]
  },
  {
   "cell_type": "markdown",
   "id": "69cd8c2b",
   "metadata": {},
   "source": [
    "В работе были проведены исследования по распределению доходов по юзерам, городам и версиям операционной системы. И дополнительное исследование зависимости eCPM от времени дня. На данный момент картина выглядит следующим образом\n",
    "- проверено распределение revenue. Выявленно, что в показах присутствуют аномально дорогие показы\n",
    "- установленно что нет прямой зависимости прибыли от показов и количества показов. Более того чаше показывают рекламу с eCPM до 5 долларов и именно она приносит максимальную выручку\n",
    "- установленна прямая зависимость от количества показов или количества юзеров. Чем больше юзеров, тем больше выручка\n",
    "- в промежутке с 10 до 16 происходит спад прибыли. Требуются дополнительная информация для прояснения ситуации"
   ]
  }
 ],
 "metadata": {
  "kernelspec": {
   "display_name": "Python 3 (ipykernel)",
   "language": "python",
   "name": "python3"
  },
  "language_info": {
   "codemirror_mode": {
    "name": "ipython",
    "version": 3
   },
   "file_extension": ".py",
   "mimetype": "text/x-python",
   "name": "python",
   "nbconvert_exporter": "python",
   "pygments_lexer": "ipython3",
   "version": "3.9.7"
  },
  "toc": {
   "base_numbering": 1,
   "nav_menu": {},
   "number_sections": true,
   "sideBar": true,
   "skip_h1_title": true,
   "title_cell": "Содержание",
   "title_sidebar": "Contents",
   "toc_cell": true,
   "toc_position": {
    "height": "calc(100% - 180px)",
    "left": "10px",
    "top": "150px",
    "width": "384px"
   },
   "toc_section_display": true,
   "toc_window_display": true
  }
 },
 "nbformat": 4,
 "nbformat_minor": 5
}
